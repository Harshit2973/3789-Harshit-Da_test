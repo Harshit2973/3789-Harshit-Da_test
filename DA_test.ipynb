{
 "cells": [
  {
   "cell_type": "code",
   "execution_count": 1,
   "id": "432897f3",
   "metadata": {},
   "outputs": [],
   "source": [
    "import pandas as pd"
   ]
  },
  {
   "cell_type": "code",
   "execution_count": 5,
   "id": "d8bebb5b",
   "metadata": {},
   "outputs": [],
   "source": [
    "#1\n",
    "survey=pd.read_excel('Sample Survey.xlsx',sheet_name=\"Data\")"
   ]
  },
  {
   "cell_type": "code",
   "execution_count": 6,
   "id": "8b8c07cc",
   "metadata": {},
   "outputs": [
    {
     "data": {
      "text/html": [
       "<div>\n",
       "<style scoped>\n",
       "    .dataframe tbody tr th:only-of-type {\n",
       "        vertical-align: middle;\n",
       "    }\n",
       "\n",
       "    .dataframe tbody tr th {\n",
       "        vertical-align: top;\n",
       "    }\n",
       "\n",
       "    .dataframe thead th {\n",
       "        text-align: right;\n",
       "    }\n",
       "</style>\n",
       "<table border=\"1\" class=\"dataframe\">\n",
       "  <thead>\n",
       "    <tr style=\"text-align: right;\">\n",
       "      <th></th>\n",
       "      <th>response_id</th>\n",
       "      <th>collection_date</th>\n",
       "      <th>urban_rural</th>\n",
       "      <th>education</th>\n",
       "      <th>income</th>\n",
       "      <th>Vote_Now</th>\n",
       "      <th>Past_Vote</th>\n",
       "      <th>CM_satisfaction</th>\n",
       "      <th>MLA_satisfaction</th>\n",
       "      <th>age</th>\n",
       "      <th>gender</th>\n",
       "      <th>assembly_no</th>\n",
       "      <th>category</th>\n",
       "      <th>weight</th>\n",
       "    </tr>\n",
       "  </thead>\n",
       "  <tbody>\n",
       "    <tr>\n",
       "      <th>0</th>\n",
       "      <td>1.0</td>\n",
       "      <td>2020-08-24</td>\n",
       "      <td>Rural</td>\n",
       "      <td>12th Pass</td>\n",
       "      <td>₹ 30,000 - ₹ 50,000</td>\n",
       "      <td>BJP</td>\n",
       "      <td>BJP</td>\n",
       "      <td>Fully Dissatisfied</td>\n",
       "      <td>Fully Dissatisfied</td>\n",
       "      <td>26.0</td>\n",
       "      <td>Male</td>\n",
       "      <td>211.0</td>\n",
       "      <td>Gen</td>\n",
       "      <td>0.346969</td>\n",
       "    </tr>\n",
       "    <tr>\n",
       "      <th>1</th>\n",
       "      <td>2.0</td>\n",
       "      <td>2020-08-24</td>\n",
       "      <td>Rural</td>\n",
       "      <td>Graduate</td>\n",
       "      <td>₹ 20,000 - ₹ 30,000</td>\n",
       "      <td>RLSP</td>\n",
       "      <td>JD(U)</td>\n",
       "      <td>Somewhat Satisfied</td>\n",
       "      <td>Fully Dissatisfied</td>\n",
       "      <td>34.0</td>\n",
       "      <td>Male</td>\n",
       "      <td>189.0</td>\n",
       "      <td>BC</td>\n",
       "      <td>0.603419</td>\n",
       "    </tr>\n",
       "    <tr>\n",
       "      <th>2</th>\n",
       "      <td>3.0</td>\n",
       "      <td>2020-08-24</td>\n",
       "      <td>Rural</td>\n",
       "      <td>Graduate</td>\n",
       "      <td>₹ 5,000 - ₹ 10,000</td>\n",
       "      <td>JAP(L)</td>\n",
       "      <td>BJP</td>\n",
       "      <td>Fully Dissatisfied</td>\n",
       "      <td>Somewhat Satisfied</td>\n",
       "      <td>25.0</td>\n",
       "      <td>Male</td>\n",
       "      <td>191.0</td>\n",
       "      <td>Gen</td>\n",
       "      <td>0.673762</td>\n",
       "    </tr>\n",
       "    <tr>\n",
       "      <th>3</th>\n",
       "      <td>4.0</td>\n",
       "      <td>2020-08-24</td>\n",
       "      <td>Urban</td>\n",
       "      <td>Graduate</td>\n",
       "      <td>₹ 10,000 - ₹ 20,000</td>\n",
       "      <td>RJD</td>\n",
       "      <td>RJD</td>\n",
       "      <td>Fully Dissatisfied</td>\n",
       "      <td>Somewhat Satisfied</td>\n",
       "      <td>36.0</td>\n",
       "      <td>Male</td>\n",
       "      <td>194.0</td>\n",
       "      <td>Gen</td>\n",
       "      <td>1.101298</td>\n",
       "    </tr>\n",
       "    <tr>\n",
       "      <th>4</th>\n",
       "      <td>5.0</td>\n",
       "      <td>2020-08-24</td>\n",
       "      <td>Rural</td>\n",
       "      <td>Graduate</td>\n",
       "      <td>₹ 50,000 - ₹ 80,000</td>\n",
       "      <td>JD(U)</td>\n",
       "      <td>Did not vote</td>\n",
       "      <td>Fully Satisfied</td>\n",
       "      <td>Fully Satisfied</td>\n",
       "      <td>22.0</td>\n",
       "      <td>Male</td>\n",
       "      <td>176.0</td>\n",
       "      <td>BC</td>\n",
       "      <td>0.333505</td>\n",
       "    </tr>\n",
       "  </tbody>\n",
       "</table>\n",
       "</div>"
      ],
      "text/plain": [
       "   response_id collection_date urban_rural  education               income  \\\n",
       "0          1.0      2020-08-24       Rural  12th Pass  ₹ 30,000 - ₹ 50,000   \n",
       "1          2.0      2020-08-24       Rural   Graduate  ₹ 20,000 - ₹ 30,000   \n",
       "2          3.0      2020-08-24       Rural   Graduate   ₹ 5,000 - ₹ 10,000   \n",
       "3          4.0      2020-08-24       Urban   Graduate  ₹ 10,000 - ₹ 20,000   \n",
       "4          5.0      2020-08-24       Rural   Graduate  ₹ 50,000 - ₹ 80,000   \n",
       "\n",
       "  Vote_Now     Past_Vote     CM_satisfaction    MLA_satisfaction   age gender  \\\n",
       "0      BJP           BJP  Fully Dissatisfied  Fully Dissatisfied  26.0   Male   \n",
       "1     RLSP         JD(U)  Somewhat Satisfied  Fully Dissatisfied  34.0   Male   \n",
       "2   JAP(L)           BJP  Fully Dissatisfied  Somewhat Satisfied  25.0   Male   \n",
       "3      RJD           RJD  Fully Dissatisfied  Somewhat Satisfied  36.0   Male   \n",
       "4    JD(U)  Did not vote     Fully Satisfied     Fully Satisfied  22.0   Male   \n",
       "\n",
       "   assembly_no category    weight  \n",
       "0        211.0      Gen  0.346969  \n",
       "1        189.0       BC  0.603419  \n",
       "2        191.0      Gen  0.673762  \n",
       "3        194.0      Gen  1.101298  \n",
       "4        176.0       BC  0.333505  "
      ]
     },
     "execution_count": 6,
     "metadata": {},
     "output_type": "execute_result"
    }
   ],
   "source": [
    "survey.head()"
   ]
  },
  {
   "cell_type": "code",
   "execution_count": 8,
   "id": "103cc18f",
   "metadata": {},
   "outputs": [
    {
     "data": {
      "text/plain": [
       "collection_date\n",
       "2020-08-24    1479\n",
       "2020-08-25     998\n",
       "2020-08-26     598\n",
       "2020-08-27     665\n",
       "2020-08-28     761\n",
       "2020-08-29     620\n",
       "2020-08-30     582\n",
       "2020-08-31     557\n",
       "2020-09-01     607\n",
       "Name: response_id, dtype: int64"
      ]
     },
     "execution_count": 8,
     "metadata": {},
     "output_type": "execute_result"
    }
   ],
   "source": [
    "#2\n",
    "survey.groupby('collection_date').count()['response_id']"
   ]
  },
  {
   "cell_type": "code",
   "execution_count": 12,
   "id": "c7f143fc",
   "metadata": {},
   "outputs": [],
   "source": [
    "def to_num(e):\n",
    "    try:\n",
    "        return int(e)\n",
    "    except:\n",
    "        return np.nan"
   ]
  },
  {
   "cell_type": "code",
   "execution_count": 13,
   "id": "f7b2d57d",
   "metadata": {},
   "outputs": [
    {
     "data": {
      "text/plain": [
       "0.9318479685452162"
      ]
     },
     "execution_count": 13,
     "metadata": {},
     "output_type": "execute_result"
    }
   ],
   "source": [
    "#3\n",
    "survey['age']=survey['age'].apply(to_num)\n",
    "len(survey[survey['age']<45])/len(survey)"
   ]
  },
  {
   "cell_type": "code",
   "execution_count": 26,
   "id": "5494d0c4",
   "metadata": {},
   "outputs": [],
   "source": [
    "def age_group(e):\n",
    "    if(e in range(18,25)):\n",
    "        return \"18-25\"\n",
    "    if(e in range(25,40)):\n",
    "        return \"25-40\"\n",
    "    if(e in range(40,55)):\n",
    "        return \"40-55\"\n",
    "    if(e in range(55,120)):\n",
    "        return \"55+\""
   ]
  },
  {
   "cell_type": "code",
   "execution_count": 28,
   "id": "1bc90d70",
   "metadata": {},
   "outputs": [
    {
     "data": {
      "text/html": [
       "<div>\n",
       "<style scoped>\n",
       "    .dataframe tbody tr th:only-of-type {\n",
       "        vertical-align: middle;\n",
       "    }\n",
       "\n",
       "    .dataframe tbody tr th {\n",
       "        vertical-align: top;\n",
       "    }\n",
       "\n",
       "    .dataframe thead th {\n",
       "        text-align: right;\n",
       "    }\n",
       "</style>\n",
       "<table border=\"1\" class=\"dataframe\">\n",
       "  <thead>\n",
       "    <tr style=\"text-align: right;\">\n",
       "      <th></th>\n",
       "      <th>response_id</th>\n",
       "      <th>collection_date</th>\n",
       "      <th>urban_rural</th>\n",
       "      <th>education</th>\n",
       "      <th>income</th>\n",
       "      <th>Vote_Now</th>\n",
       "      <th>Past_Vote</th>\n",
       "      <th>CM_satisfaction</th>\n",
       "      <th>MLA_satisfaction</th>\n",
       "      <th>age</th>\n",
       "      <th>gender</th>\n",
       "      <th>assembly_no</th>\n",
       "      <th>category</th>\n",
       "      <th>weight</th>\n",
       "      <th>age-group</th>\n",
       "    </tr>\n",
       "  </thead>\n",
       "  <tbody>\n",
       "    <tr>\n",
       "      <th>0</th>\n",
       "      <td>1.0</td>\n",
       "      <td>2020-08-24</td>\n",
       "      <td>Rural</td>\n",
       "      <td>12th Pass</td>\n",
       "      <td>₹ 30,000 - ₹ 50,000</td>\n",
       "      <td>BJP</td>\n",
       "      <td>BJP</td>\n",
       "      <td>Fully Dissatisfied</td>\n",
       "      <td>Fully Dissatisfied</td>\n",
       "      <td>26</td>\n",
       "      <td>Male</td>\n",
       "      <td>211.0</td>\n",
       "      <td>Gen</td>\n",
       "      <td>0.346969</td>\n",
       "      <td>25-40</td>\n",
       "    </tr>\n",
       "    <tr>\n",
       "      <th>1</th>\n",
       "      <td>2.0</td>\n",
       "      <td>2020-08-24</td>\n",
       "      <td>Rural</td>\n",
       "      <td>Graduate</td>\n",
       "      <td>₹ 20,000 - ₹ 30,000</td>\n",
       "      <td>RLSP</td>\n",
       "      <td>JD(U)</td>\n",
       "      <td>Somewhat Satisfied</td>\n",
       "      <td>Fully Dissatisfied</td>\n",
       "      <td>34</td>\n",
       "      <td>Male</td>\n",
       "      <td>189.0</td>\n",
       "      <td>BC</td>\n",
       "      <td>0.603419</td>\n",
       "      <td>25-40</td>\n",
       "    </tr>\n",
       "    <tr>\n",
       "      <th>2</th>\n",
       "      <td>3.0</td>\n",
       "      <td>2020-08-24</td>\n",
       "      <td>Rural</td>\n",
       "      <td>Graduate</td>\n",
       "      <td>₹ 5,000 - ₹ 10,000</td>\n",
       "      <td>JAP(L)</td>\n",
       "      <td>BJP</td>\n",
       "      <td>Fully Dissatisfied</td>\n",
       "      <td>Somewhat Satisfied</td>\n",
       "      <td>25</td>\n",
       "      <td>Male</td>\n",
       "      <td>191.0</td>\n",
       "      <td>Gen</td>\n",
       "      <td>0.673762</td>\n",
       "      <td>25-40</td>\n",
       "    </tr>\n",
       "    <tr>\n",
       "      <th>3</th>\n",
       "      <td>4.0</td>\n",
       "      <td>2020-08-24</td>\n",
       "      <td>Urban</td>\n",
       "      <td>Graduate</td>\n",
       "      <td>₹ 10,000 - ₹ 20,000</td>\n",
       "      <td>RJD</td>\n",
       "      <td>RJD</td>\n",
       "      <td>Fully Dissatisfied</td>\n",
       "      <td>Somewhat Satisfied</td>\n",
       "      <td>36</td>\n",
       "      <td>Male</td>\n",
       "      <td>194.0</td>\n",
       "      <td>Gen</td>\n",
       "      <td>1.101298</td>\n",
       "      <td>25-40</td>\n",
       "    </tr>\n",
       "    <tr>\n",
       "      <th>4</th>\n",
       "      <td>5.0</td>\n",
       "      <td>2020-08-24</td>\n",
       "      <td>Rural</td>\n",
       "      <td>Graduate</td>\n",
       "      <td>₹ 50,000 - ₹ 80,000</td>\n",
       "      <td>JD(U)</td>\n",
       "      <td>Did not vote</td>\n",
       "      <td>Fully Satisfied</td>\n",
       "      <td>Fully Satisfied</td>\n",
       "      <td>22</td>\n",
       "      <td>Male</td>\n",
       "      <td>176.0</td>\n",
       "      <td>BC</td>\n",
       "      <td>0.333505</td>\n",
       "      <td>18-25</td>\n",
       "    </tr>\n",
       "  </tbody>\n",
       "</table>\n",
       "</div>"
      ],
      "text/plain": [
       "   response_id collection_date urban_rural  education               income  \\\n",
       "0          1.0      2020-08-24       Rural  12th Pass  ₹ 30,000 - ₹ 50,000   \n",
       "1          2.0      2020-08-24       Rural   Graduate  ₹ 20,000 - ₹ 30,000   \n",
       "2          3.0      2020-08-24       Rural   Graduate   ₹ 5,000 - ₹ 10,000   \n",
       "3          4.0      2020-08-24       Urban   Graduate  ₹ 10,000 - ₹ 20,000   \n",
       "4          5.0      2020-08-24       Rural   Graduate  ₹ 50,000 - ₹ 80,000   \n",
       "\n",
       "  Vote_Now     Past_Vote     CM_satisfaction    MLA_satisfaction  age gender  \\\n",
       "0      BJP           BJP  Fully Dissatisfied  Fully Dissatisfied   26   Male   \n",
       "1     RLSP         JD(U)  Somewhat Satisfied  Fully Dissatisfied   34   Male   \n",
       "2   JAP(L)           BJP  Fully Dissatisfied  Somewhat Satisfied   25   Male   \n",
       "3      RJD           RJD  Fully Dissatisfied  Somewhat Satisfied   36   Male   \n",
       "4    JD(U)  Did not vote     Fully Satisfied     Fully Satisfied   22   Male   \n",
       "\n",
       "   assembly_no category    weight age-group  \n",
       "0        211.0      Gen  0.346969     25-40  \n",
       "1        189.0       BC  0.603419     25-40  \n",
       "2        191.0      Gen  0.673762     25-40  \n",
       "3        194.0      Gen  1.101298     25-40  \n",
       "4        176.0       BC  0.333505     18-25  "
      ]
     },
     "execution_count": 28,
     "metadata": {},
     "output_type": "execute_result"
    }
   ],
   "source": [
    "#4\n",
    "survey['age-group']=survey['age'].apply(age_group)\n",
    "survey.head()"
   ]
  },
  {
   "cell_type": "code",
   "execution_count": 34,
   "id": "bed63e62",
   "metadata": {},
   "outputs": [
    {
     "data": {
      "text/html": [
       "<div>\n",
       "<style scoped>\n",
       "    .dataframe tbody tr th:only-of-type {\n",
       "        vertical-align: middle;\n",
       "    }\n",
       "\n",
       "    .dataframe tbody tr th {\n",
       "        vertical-align: top;\n",
       "    }\n",
       "\n",
       "    .dataframe thead th {\n",
       "        text-align: right;\n",
       "    }\n",
       "</style>\n",
       "<table border=\"1\" class=\"dataframe\">\n",
       "  <thead>\n",
       "    <tr style=\"text-align: right;\">\n",
       "      <th></th>\n",
       "      <th>response_id</th>\n",
       "      <th>collection_date</th>\n",
       "      <th>urban_rural</th>\n",
       "      <th>education</th>\n",
       "      <th>income</th>\n",
       "      <th>Vote_Now</th>\n",
       "      <th>Past_Vote</th>\n",
       "      <th>CM_satisfaction</th>\n",
       "      <th>MLA_satisfaction</th>\n",
       "      <th>age</th>\n",
       "      <th>gender</th>\n",
       "      <th>assembly_no</th>\n",
       "      <th>category</th>\n",
       "      <th>weight</th>\n",
       "    </tr>\n",
       "    <tr>\n",
       "      <th>age-group</th>\n",
       "      <th></th>\n",
       "      <th></th>\n",
       "      <th></th>\n",
       "      <th></th>\n",
       "      <th></th>\n",
       "      <th></th>\n",
       "      <th></th>\n",
       "      <th></th>\n",
       "      <th></th>\n",
       "      <th></th>\n",
       "      <th></th>\n",
       "      <th></th>\n",
       "      <th></th>\n",
       "      <th></th>\n",
       "    </tr>\n",
       "  </thead>\n",
       "  <tbody>\n",
       "    <tr>\n",
       "      <th>18-25</th>\n",
       "      <td>2093</td>\n",
       "      <td>2093</td>\n",
       "      <td>2093</td>\n",
       "      <td>2093</td>\n",
       "      <td>2093</td>\n",
       "      <td>2093</td>\n",
       "      <td>2093</td>\n",
       "      <td>2093</td>\n",
       "      <td>2093</td>\n",
       "      <td>2093</td>\n",
       "      <td>2093</td>\n",
       "      <td>2093</td>\n",
       "      <td>2093</td>\n",
       "      <td>2093</td>\n",
       "    </tr>\n",
       "    <tr>\n",
       "      <th>25-40</th>\n",
       "      <td>3844</td>\n",
       "      <td>3844</td>\n",
       "      <td>3844</td>\n",
       "      <td>3844</td>\n",
       "      <td>3844</td>\n",
       "      <td>3844</td>\n",
       "      <td>3844</td>\n",
       "      <td>3844</td>\n",
       "      <td>3844</td>\n",
       "      <td>3844</td>\n",
       "      <td>3844</td>\n",
       "      <td>3844</td>\n",
       "      <td>3844</td>\n",
       "      <td>3844</td>\n",
       "    </tr>\n",
       "    <tr>\n",
       "      <th>40-55</th>\n",
       "      <td>801</td>\n",
       "      <td>801</td>\n",
       "      <td>801</td>\n",
       "      <td>801</td>\n",
       "      <td>801</td>\n",
       "      <td>801</td>\n",
       "      <td>801</td>\n",
       "      <td>801</td>\n",
       "      <td>801</td>\n",
       "      <td>801</td>\n",
       "      <td>801</td>\n",
       "      <td>801</td>\n",
       "      <td>801</td>\n",
       "      <td>801</td>\n",
       "    </tr>\n",
       "    <tr>\n",
       "      <th>55+</th>\n",
       "      <td>128</td>\n",
       "      <td>128</td>\n",
       "      <td>128</td>\n",
       "      <td>128</td>\n",
       "      <td>128</td>\n",
       "      <td>128</td>\n",
       "      <td>128</td>\n",
       "      <td>128</td>\n",
       "      <td>128</td>\n",
       "      <td>128</td>\n",
       "      <td>128</td>\n",
       "      <td>128</td>\n",
       "      <td>128</td>\n",
       "      <td>128</td>\n",
       "    </tr>\n",
       "  </tbody>\n",
       "</table>\n",
       "</div>"
      ],
      "text/plain": [
       "           response_id  collection_date  urban_rural  education  income  \\\n",
       "age-group                                                                 \n",
       "18-25             2093             2093         2093       2093    2093   \n",
       "25-40             3844             3844         3844       3844    3844   \n",
       "40-55              801              801          801        801     801   \n",
       "55+                128              128          128        128     128   \n",
       "\n",
       "           Vote_Now  Past_Vote  CM_satisfaction  MLA_satisfaction   age  \\\n",
       "age-group                                                                 \n",
       "18-25          2093       2093             2093              2093  2093   \n",
       "25-40          3844       3844             3844              3844  3844   \n",
       "40-55           801        801              801               801   801   \n",
       "55+             128        128              128               128   128   \n",
       "\n",
       "           gender  assembly_no  category  weight  \n",
       "age-group                                         \n",
       "18-25        2093         2093      2093    2093  \n",
       "25-40        3844         3844      3844    3844  \n",
       "40-55         801          801       801     801  \n",
       "55+           128          128       128     128  "
      ]
     },
     "execution_count": 34,
     "metadata": {},
     "output_type": "execute_result"
    }
   ],
   "source": [
    "#5\n",
    "q5=survey.groupby('age-group').count()\n",
    "q5"
   ]
  },
  {
   "cell_type": "code",
   "execution_count": 36,
   "id": "b08cea23",
   "metadata": {},
   "outputs": [
    {
     "name": "stdout",
     "output_type": "stream",
     "text": [
      "Max  3844\n"
     ]
    }
   ],
   "source": [
    "#5\n",
    "print(\"Max \",max(q5['response_id']))"
   ]
  },
  {
   "cell_type": "code",
   "execution_count": 37,
   "id": "3e3f96c6",
   "metadata": {},
   "outputs": [
    {
     "name": "stdout",
     "output_type": "stream",
     "text": [
      "Ans 0.1181010630551915\n"
     ]
    }
   ],
   "source": [
    "#6\n",
    "print(\"Ans\",len(survey[(survey['Past_Vote']=='RJD') & (survey['Vote_Now']=='RJD')])/len(survey))"
   ]
  },
  {
   "cell_type": "code",
   "execution_count": 61,
   "id": "782778c2",
   "metadata": {},
   "outputs": [
    {
     "name": "stdout",
     "output_type": "stream",
     "text": [
      "[1479, 998, 598, 665, 761, 620, 582, 557, 607]\n"
     ]
    }
   ],
   "source": [
    "#7\n",
    "FS=survey[survey['CM_satisfaction'] == \"Fully Satisfied\"].groupby(\"collection_date\").size()\n",
    "FS=list(FS)\n",
    "TT=survey.groupby('collection_date').size()\n",
    "TT=list(TT)\n",
    "import numpy as np\n",
    "np.array(FS)/np.array(TT)"
   ]
  },
  {
   "cell_type": "code",
   "execution_count": 67,
   "id": "b032c36b",
   "metadata": {},
   "outputs": [
    {
     "name": "stdout",
     "output_type": "stream",
     "text": [
      "[0.59972955 0.63126253 0.590301   0.60601504 0.60709593 0.56451613\n",
      " 0.62027491 0.57630162 0.63426689]\n"
     ]
    }
   ],
   "source": [
    "FS=survey[survey['MLA_satisfaction'] == \"Fully Dissatisfied\"].groupby(\"collection_date\").size()\n",
    "FS=list(FS)\n",
    "TT=survey.groupby('collection_date').size()\n",
    "TT=list(TT)\n",
    "import numpy as np\n",
    "MLA_Dis=np.array(FS)/np.array(TT)\n",
    "print(MLA_Dis)"
   ]
  },
  {
   "cell_type": "code",
   "execution_count": 68,
   "id": "e31d180e",
   "metadata": {},
   "outputs": [
    {
     "data": {
      "text/plain": [
       "[<matplotlib.lines.Line2D at 0x1e6c3b09eb0>]"
      ]
     },
     "execution_count": 68,
     "metadata": {},
     "output_type": "execute_result"
    },
    {
     "data": {
      "image/png": "[encoded data removed]",
      "text/plain": [
       "<Figure size 720x432 with 1 Axes>"
      ]
     },
     "metadata": {
      "needs_background": "light"
     },
     "output_type": "display_data"
    }
   ],
   "source": [
    "import matplotlib.pyplot as plt\n",
    "plt.figure(figsize=(10, 6)) \n",
    "plt.plot(survey['collection_date'].unique(),MLA_Dis)"
   ]
  }
 ],
 "metadata": {
  "kernelspec": {
   "display_name": "Python 3 (ipykernel)",
   "language": "python",
   "name": "python3"
  },
  "language_info": {
   "codemirror_mode": {
    "name": "ipython",
    "version": 3
   },
   "file_extension": ".py",
   "mimetype": "text/x-python",
   "name": "python",
   "nbconvert_exporter": "python",
   "pygments_lexer": "ipython3",
   "version": "3.9.12"
  }
 },
 "nbformat": 4,
 "nbformat_minor": 5
}
